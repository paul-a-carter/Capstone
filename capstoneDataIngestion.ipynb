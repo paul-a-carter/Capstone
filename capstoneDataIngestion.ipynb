{
 "cells": [
  {
   "cell_type": "code",
   "execution_count": 15,
   "metadata": {},
   "outputs": [
    {
     "name": "stdout",
     "output_type": "stream",
     "text": [
      "        Rk            Player   Tm  Age Pos  Year   G  GS    Tgt  Rec  ...  \\\n",
      "0        1  Marvin Harrison*  IND   28  WR  2000  16  16  169.0  102  ...   \n",
      "1        2   Muhsin Muhammad  CAR   27  WR  2000  16  16  156.0  102  ...   \n",
      "2        3      Ed McCaffrey  DEN   32  WR  2000  16  16  149.0  101  ...   \n",
      "3        4        Rod Smith*  DEN   30  WR  2000  16  16  173.0  100  ...   \n",
      "4        5   Terrell Owens*+  SFO   27  WR  2000  14  13  146.0   97  ...   \n",
      "...    ...               ...  ...  ...  ..   ...  ..  ..    ...  ...  ...   \n",
      "11001  504       Noah Togiai  PHI   25  TE  2022   2   0    1.0    0  ...   \n",
      "11002  505       Jake Tonges  CHI   23  TE  2022   4   0    1.0    0  ...   \n",
      "11003  506         DJ Turner  LVR   25  WR  2022   9   0    1.0    0  ...   \n",
      "11004  507  James Washington  DAL   26  WR  2022   2   0    1.0    0  ...   \n",
      "11005  508   Charlie Woerner  SFO   25  TE  2022  17   2    2.0    0  ...   \n",
      "\n",
      "        Y/R  TD  1D  Succ%  Lng  Y/Tgt  R/G    Y/G  Fmb  Player-additional  \n",
      "0      13.9  14  70   52.7   78    8.4  6.4   88.3  2.0           HarrMa00  \n",
      "1      11.6   6  62   56.4   36    7.6  6.4   73.9  1.0           MuhaMu00  \n",
      "2      13.0   9  69   59.1   61    8.8  6.3   82.3  0.0           McCaEd00  \n",
      "3      16.0   8  77   53.8   49    9.3  6.3  100.1  1.0           SmitRo01  \n",
      "4      15.0  13  65   60.3   69    9.9  6.9  103.6  3.0           OwenTe00  \n",
      "...     ...  ..  ..    ...  ...    ...  ...    ...  ...                ...  \n",
      "11001   NaN   0   0    0.0    0    0.0  0.0    0.0  0.0           TogiNo00  \n",
      "11002   NaN   0   0    0.0    0    0.0  0.0    0.0  0.0           TongJa00  \n",
      "11003   NaN   0   0    0.0    0    0.0  0.0    0.0  1.0           TurnDJ00  \n",
      "11004   NaN   0   0    0.0    0    0.0  0.0    0.0  0.0           WashJa00  \n",
      "11005   NaN   0   0    0.0    0    0.0  0.0    0.0  0.0           WoerCh00  \n",
      "\n",
      "[11006 rows x 22 columns]\n"
     ]
    }
   ],
   "source": [
    "import pandas as pd\n",
    "\n",
    "statsDF = pd.concat(\n",
    "    map(pd.read_csv, [\"nflWRStats00.csv\",\"nflWRStats01.csv\",\"nflWRStats02.csv\",\"nflWRStats03.csv\",\"nflWRStats04.csv\",\"nflWRStats05.csv\",\"nflWRStats06.csv\",\"nflWRStats07.csv\",\n",
    "                      \"nflWRStats08.csv\",\"nflWRStats09.csv\",\"nflWRStats10.csv\",\"nflWRStats11.csv\",\"nflWRStats12.csv\",\"nflWRStats13.csv\",\"nflWRStats14.csv\",\"nflWRStats15.csv\",\n",
    "                      \"nflWRStats16.csv\",\"nflWRStats17.csv\",\"nflWRStats18.csv\",\"nflWRStats19.csv\",\"nflWRStats20.csv\",\"nflWRStats21.csv\",\"nflWRStats22.csv\"]), ignore_index=True)\n",
    "print(statsDF)"
   ]
  },
  {
   "cell_type": "code",
   "execution_count": 22,
   "metadata": {},
   "outputs": [
    {
     "name": "stdout",
     "output_type": "stream",
     "text": [
      "        Rk            Player   Tm  Age Pos  Year   G  GS    Tgt  Rec  ...  \\\n",
      "0        1   Marvin Harrison  IND   28  WR  2000  16  16  169.0  102  ...   \n",
      "1        2   Muhsin Muhammad  CAR   27  WR  2000  16  16  156.0  102  ...   \n",
      "2        3      Ed McCaffrey  DEN   32  WR  2000  16  16  149.0  101  ...   \n",
      "3        4         Rod Smith  DEN   30  WR  2000  16  16  173.0  100  ...   \n",
      "4        5     Terrell Owens  SFO   27  WR  2000  14  13  146.0   97  ...   \n",
      "...    ...               ...  ...  ...  ..   ...  ..  ..    ...  ...  ...   \n",
      "11001  504       Noah Togiai  PHI   25  TE  2022   2   0    1.0    0  ...   \n",
      "11002  505       Jake Tonges  CHI   23  TE  2022   4   0    1.0    0  ...   \n",
      "11003  506         DJ Turner  LVR   25  WR  2022   9   0    1.0    0  ...   \n",
      "11004  507  James Washington  DAL   26  WR  2022   2   0    1.0    0  ...   \n",
      "11005  508   Charlie Woerner  SFO   25  TE  2022  17   2    2.0    0  ...   \n",
      "\n",
      "        Y/R  TD  1D  Succ%  Lng  Y/Tgt  R/G    Y/G  Fmb  Player-additional  \n",
      "0      13.9  14  70   52.7   78    8.4  6.4   88.3  2.0           HarrMa00  \n",
      "1      11.6   6  62   56.4   36    7.6  6.4   73.9  1.0           MuhaMu00  \n",
      "2      13.0   9  69   59.1   61    8.8  6.3   82.3  0.0           McCaEd00  \n",
      "3      16.0   8  77   53.8   49    9.3  6.3  100.1  1.0           SmitRo01  \n",
      "4      15.0  13  65   60.3   69    9.9  6.9  103.6  3.0           OwenTe00  \n",
      "...     ...  ..  ..    ...  ...    ...  ...    ...  ...                ...  \n",
      "11001   NaN   0   0    0.0    0    0.0  0.0    0.0  0.0           TogiNo00  \n",
      "11002   NaN   0   0    0.0    0    0.0  0.0    0.0  0.0           TongJa00  \n",
      "11003   NaN   0   0    0.0    0    0.0  0.0    0.0  1.0           TurnDJ00  \n",
      "11004   NaN   0   0    0.0    0    0.0  0.0    0.0  0.0           WashJa00  \n",
      "11005   NaN   0   0    0.0    0    0.0  0.0    0.0  0.0           WoerCh00  \n",
      "\n",
      "[11006 rows x 22 columns]\n"
     ]
    }
   ],
   "source": [
    "statsDF['Player'] = statsDF['Player'].str.replace('*','')\n",
    "statsDF['Player'] = statsDF['Player'].str.replace('+','')\n",
    "\n",
    "print(statsDF)"
   ]
  },
  {
   "cell_type": "code",
   "execution_count": 24,
   "metadata": {},
   "outputs": [],
   "source": [
    "statsDF.to_csv(\"nflWRStats2000-2022.csv\")"
   ]
  },
  {
   "cell_type": "code",
   "execution_count": 34,
   "metadata": {},
   "outputs": [
    {
     "name": "stdout",
     "output_type": "stream",
     "text": [
      "               Player Pos  Ht   Wt  Forty  Vertical  BenchReps  BroadJump  \\\n",
      "0     Plaxico Burress  WR  77  231   4.59      33.0        NaN      115.0   \n",
      "1         Kwame Cavil  WR  74  208   4.54      39.5        NaN      118.0   \n",
      "2          Chris Cole  WR  72  191   4.37      37.5        NaN      125.0   \n",
      "3       Chris Coleman  WR  72  211   4.61      32.5        NaN      110.0   \n",
      "4    Laveranues Coles  WR  71  192   4.41      34.0        NaN      115.0   \n",
      "..                ...  ..  ..  ...    ...       ...        ...        ...   \n",
      "852       Jester Weah  WR  74  211   4.43      38.0       15.0      129.0   \n",
      "853      Karaun White  WR  73  206   4.52      33.5       24.0      118.0   \n",
      "854      Jake Wieneke  WR  76  221   4.67      34.0        9.0      114.0   \n",
      "855    Cedrick Wilson  WR  74  197   4.55      37.0        9.0      121.0   \n",
      "856        Javon Wims  WR  75  215   4.53      33.5        NaN      113.0   \n",
      "\n",
      "     Cone  Shuttle  Year    Pfr_ID  AV                 Team  Round  Pick  \n",
      "0     NaN      NaN  2000  BurrPl00  25  Pittsburgh Steelers    1.0   8.0  \n",
      "1     NaN      NaN  2000  CaviKw00   0                  NaN    NaN   NaN  \n",
      "2    6.76     4.09  2000  ColeCh00   1       Denver Broncos    3.0  70.0  \n",
      "3    6.79     4.10  2000  ColeCh01   0                  NaN    NaN   NaN  \n",
      "4    6.89     4.39  2000  ColeLa00  26        New York Jets    3.0  78.0  \n",
      "..    ...      ...   ...       ...  ..                  ...    ...   ...  \n",
      "852  7.24     4.41  2018  WeahJe00   0                  NaN    NaN   NaN  \n",
      "853  7.16     4.57  2018       NaN   0                  NaN    NaN   NaN  \n",
      "854  7.24     4.37  2018       NaN   0                  NaN    NaN   NaN  \n",
      "855  6.89     4.23  2018  WilsCe01   0                  NaN    NaN   NaN  \n",
      "856  7.00      NaN  2018  WimsJa00   0                  NaN    NaN   NaN  \n",
      "\n",
      "[857 rows x 16 columns]\n"
     ]
    }
   ],
   "source": [
    "combineDF = pd.read_csv(\"nflCombineData.csv\")\n",
    "print(combineDF)"
   ]
  },
  {
   "cell_type": "code",
   "execution_count": 46,
   "metadata": {},
   "outputs": [],
   "source": [
    "import requests\n",
    "from bs4 import BeautifulSoup as bsoup\n",
    "import lxml.html as lh\n",
    "\n",
    "url = \"https://nflcombineresults.com/nflcombinedata_expanded.php?year=all&pos=WR&college=\"\n",
    "\n",
    "#Create a handle, page, to handle the contents of the website\n",
    "page = requests.get(url)\n",
    "#Store the contents of the website under doc\n",
    "doc = lh.fromstring(page.content)\n",
    "#Parse data that are stored between <tr>..</tr> of HTML\n",
    "tr_elements = doc.xpath('//tr')"
   ]
  },
  {
   "cell_type": "code",
   "execution_count": 48,
   "metadata": {},
   "outputs": [
    {
     "data": {
      "text/plain": [
       "[16, 16, 16, 16, 16, 16, 16, 16, 16, 16, 16, 16]"
      ]
     },
     "execution_count": 48,
     "metadata": {},
     "output_type": "execute_result"
    }
   ],
   "source": [
    "#Check the length of the first 12 rows\n",
    "[len(T) for T in tr_elements[:12]]"
   ]
  },
  {
   "cell_type": "code",
   "execution_count": 52,
   "metadata": {},
   "outputs": [
    {
     "name": "stdout",
     "output_type": "stream",
     "text": [
      "1:\"Year\"\n",
      "2:\"Name\"\n",
      "3:\"College\"\n",
      "4:\"POS\"\n",
      "5:\"Height (in)\"\n",
      "6:\"Weight (lbs)\"\n",
      "7:\"Hand Size (in)\"\n",
      "8:\"Arm Length (in)\"\n",
      "9:\"Wonderlic\"\n",
      "10:\"40 Yard\"\n",
      "11:\"Bench Press\"\n",
      "12:\"Vert Leap (in)\"\n",
      "13:\"Broad Jump (in)\"\n",
      "14:\"Shuttle\"\n",
      "15:\"3Cone\"\n",
      "16:\"60Yd Shuttle\"\n"
     ]
    }
   ],
   "source": [
    "#Create empty list\n",
    "col=[]\n",
    "i=0\n",
    "#For each row, store each first element (header) and an empty list\n",
    "for t in tr_elements[0]:\n",
    "    i+=1\n",
    "    name=t.text_content()\n",
    "    print('%d:\"%s\"'%(i,name))\n",
    "    col.append((name,[]))"
   ]
  },
  {
   "cell_type": "code",
   "execution_count": 55,
   "metadata": {},
   "outputs": [],
   "source": [
    "#Since out first row is the header, data is stored on the second row onwards\n",
    "for j in range(1,len(tr_elements)):\n",
    "    #T is our j'th row\n",
    "    T=tr_elements[j]\n",
    "    \n",
    "    #If row is not of size 16, the //tr data is not from our table \n",
    "    if len(T)!=16:\n",
    "        break\n",
    "    \n",
    "    #i is the index of our column\n",
    "    i=0\n",
    "    \n",
    "    #Iterate through each element of the row\n",
    "    for t in T.iterchildren():\n",
    "        data=t.text_content() \n",
    "        #Check if row is empty\n",
    "        if i>0:\n",
    "        #Convert any numerical value to integers\n",
    "            try:\n",
    "                data=int(data)\n",
    "            except:\n",
    "                pass\n",
    "        #Append the data to the empty list of the i'th column\n",
    "        col[i][1].append(data)\n",
    "        #Increment i for the next column\n",
    "        i+=1"
   ]
  },
  {
   "cell_type": "code",
   "execution_count": 57,
   "metadata": {},
   "outputs": [
    {
     "data": {
      "text/plain": [
       "[1836,\n",
       " 1836,\n",
       " 1836,\n",
       " 1836,\n",
       " 1836,\n",
       " 1836,\n",
       " 1836,\n",
       " 1836,\n",
       " 1836,\n",
       " 1836,\n",
       " 1836,\n",
       " 1836,\n",
       " 1836,\n",
       " 1836,\n",
       " 1836,\n",
       " 1836]"
      ]
     },
     "execution_count": 57,
     "metadata": {},
     "output_type": "execute_result"
    }
   ],
   "source": [
    "#Check the length of the columns\n",
    "[len(C) for (title,C) in col]"
   ]
  },
  {
   "cell_type": "code",
   "execution_count": 59,
   "metadata": {},
   "outputs": [
    {
     "data": {
      "text/html": [
       "<div>\n",
       "<style scoped>\n",
       "    .dataframe tbody tr th:only-of-type {\n",
       "        vertical-align: middle;\n",
       "    }\n",
       "\n",
       "    .dataframe tbody tr th {\n",
       "        vertical-align: top;\n",
       "    }\n",
       "\n",
       "    .dataframe thead th {\n",
       "        text-align: right;\n",
       "    }\n",
       "</style>\n",
       "<table border=\"1\" class=\"dataframe\">\n",
       "  <thead>\n",
       "    <tr style=\"text-align: right;\">\n",
       "      <th></th>\n",
       "      <th>Year</th>\n",
       "      <th>Name</th>\n",
       "      <th>College</th>\n",
       "      <th>POS</th>\n",
       "      <th>Height (in)</th>\n",
       "      <th>Weight (lbs)</th>\n",
       "      <th>Hand Size (in)</th>\n",
       "      <th>Arm Length (in)</th>\n",
       "      <th>Wonderlic</th>\n",
       "      <th>40 Yard</th>\n",
       "      <th>Bench Press</th>\n",
       "      <th>Vert Leap (in)</th>\n",
       "      <th>Broad Jump (in)</th>\n",
       "      <th>Shuttle</th>\n",
       "      <th>3Cone</th>\n",
       "      <th>60Yd Shuttle</th>\n",
       "    </tr>\n",
       "  </thead>\n",
       "  <tbody>\n",
       "    <tr>\n",
       "      <th>0</th>\n",
       "      <td>2023</td>\n",
       "      <td>Jordan Addison</td>\n",
       "      <td>Southern California</td>\n",
       "      <td>WR</td>\n",
       "      <td>71.13</td>\n",
       "      <td>173</td>\n",
       "      <td>8.75</td>\n",
       "      <td>30.88</td>\n",
       "      <td></td>\n",
       "      <td>4.49</td>\n",
       "      <td></td>\n",
       "      <td>34.0</td>\n",
       "      <td>122</td>\n",
       "      <td>4.19</td>\n",
       "      <td>7.05</td>\n",
       "      <td></td>\n",
       "    </tr>\n",
       "    <tr>\n",
       "      <th>1</th>\n",
       "      <td>2023</td>\n",
       "      <td>Ronnie Bell</td>\n",
       "      <td>Michigan</td>\n",
       "      <td>WR</td>\n",
       "      <td>71.63</td>\n",
       "      <td>191</td>\n",
       "      <td>9.50</td>\n",
       "      <td>31.00</td>\n",
       "      <td></td>\n",
       "      <td>4.54</td>\n",
       "      <td>14</td>\n",
       "      <td>38.5</td>\n",
       "      <td>120</td>\n",
       "      <td>4.15</td>\n",
       "      <td>6.98</td>\n",
       "      <td></td>\n",
       "    </tr>\n",
       "    <tr>\n",
       "      <th>2</th>\n",
       "      <td>2023</td>\n",
       "      <td>Kayshon Boutte</td>\n",
       "      <td>Louisiana State</td>\n",
       "      <td>WR</td>\n",
       "      <td>71.25</td>\n",
       "      <td>195</td>\n",
       "      <td>9.50</td>\n",
       "      <td>31.38</td>\n",
       "      <td></td>\n",
       "      <td>4.50</td>\n",
       "      <td></td>\n",
       "      <td>29.0</td>\n",
       "      <td>118</td>\n",
       "      <td>4.25</td>\n",
       "      <td></td>\n",
       "      <td></td>\n",
       "    </tr>\n",
       "    <tr>\n",
       "      <th>3</th>\n",
       "      <td>2023</td>\n",
       "      <td>Jalen Brooks</td>\n",
       "      <td>South Carolina</td>\n",
       "      <td>WR</td>\n",
       "      <td>73.00</td>\n",
       "      <td>200</td>\n",
       "      <td>9.50</td>\n",
       "      <td>34.13</td>\n",
       "      <td></td>\n",
       "      <td>4.69</td>\n",
       "      <td>15</td>\n",
       "      <td>35.0</td>\n",
       "      <td>130</td>\n",
       "      <td>4.31</td>\n",
       "      <td>7.15</td>\n",
       "      <td></td>\n",
       "    </tr>\n",
       "    <tr>\n",
       "      <th>4</th>\n",
       "      <td>2023</td>\n",
       "      <td>Jason Brownlee</td>\n",
       "      <td>Southern Mississippi</td>\n",
       "      <td>WR</td>\n",
       "      <td>74.00</td>\n",
       "      <td>198</td>\n",
       "      <td>9.75</td>\n",
       "      <td>33.75</td>\n",
       "      <td></td>\n",
       "      <td>4.59</td>\n",
       "      <td>16</td>\n",
       "      <td>39.5</td>\n",
       "      <td>131</td>\n",
       "      <td>4.32</td>\n",
       "      <td>6.91</td>\n",
       "      <td></td>\n",
       "    </tr>\n",
       "  </tbody>\n",
       "</table>\n",
       "</div>"
      ],
      "text/plain": [
       "   Year            Name               College POS Height (in)  Weight (lbs)  \\\n",
       "0  2023  Jordan Addison   Southern California  WR       71.13           173   \n",
       "1  2023     Ronnie Bell              Michigan  WR       71.63           191   \n",
       "2  2023  Kayshon Boutte       Louisiana State  WR       71.25           195   \n",
       "3  2023    Jalen Brooks        South Carolina  WR       73.00           200   \n",
       "4  2023  Jason Brownlee  Southern Mississippi  WR       74.00           198   \n",
       "\n",
       "  Hand Size (in) Arm Length (in) Wonderlic 40 Yard Bench Press Vert Leap (in)  \\\n",
       "0           8.75           30.88              4.49                       34.0   \n",
       "1           9.50           31.00              4.54          14           38.5   \n",
       "2           9.50           31.38              4.50                       29.0   \n",
       "3           9.50           34.13              4.69          15           35.0   \n",
       "4           9.75           33.75              4.59          16           39.5   \n",
       "\n",
       "  Broad Jump (in) Shuttle 3Cone 60Yd Shuttle  \n",
       "0             122    4.19  7.05               \n",
       "1             120    4.15  6.98               \n",
       "2             118    4.25                     \n",
       "3             130    4.31  7.15               \n",
       "4             131    4.32  6.91               "
      ]
     },
     "execution_count": 59,
     "metadata": {},
     "output_type": "execute_result"
    }
   ],
   "source": [
    "#Creating the dataframe\n",
    "Dict={title:column for (title,column) in col}\n",
    "df=pd.DataFrame(Dict)\n",
    "\n",
    "#Looking at top 5 rows\n",
    "df.head()"
   ]
  },
  {
   "cell_type": "code",
   "execution_count": 61,
   "metadata": {},
   "outputs": [],
   "source": [
    "df.to_csv(\"nflCombineDataFull.csv\")"
   ]
  },
  {
   "cell_type": "code",
   "execution_count": 62,
   "metadata": {},
   "outputs": [
    {
     "name": "stdout",
     "output_type": "stream",
     "text": [
      "        Rk            Player   Tm  Age Pos  Year   G  GS    Tgt  Rec  ...  \\\n",
      "0        1      Jerry Rice*+  SFO   34  WR  1996  16  16  153.0  108  ...   \n",
      "1        2    Herman Moore*+  DET   27  WR  1996  16  16  178.0  106  ...   \n",
      "2        3     Carl Pickens*  CIN   26  WR  1996  16  16  174.0  100  ...   \n",
      "3        4   Larry Centers*+  ARI   28  FB  1996  16  14  130.0   99  ...   \n",
      "4        5      Cris Carter*  MIN   31  WR  1996  16  16  167.0   96  ...   \n",
      "...    ...               ...  ...  ...  ..   ...  ..  ..    ...  ...  ...   \n",
      "12678  504       Noah Togiai  PHI   25  TE  2022   2   0    1.0    0  ...   \n",
      "12679  505       Jake Tonges  CHI   23  TE  2022   4   0    1.0    0  ...   \n",
      "12680  506         DJ Turner  LVR   25  WR  2022   9   0    1.0    0  ...   \n",
      "12681  507  James Washington  DAL   26  WR  2022   2   0    1.0    0  ...   \n",
      "12682  508   Charlie Woerner  SFO   25  TE  2022  17   2    2.0    0  ...   \n",
      "\n",
      "        Y/R  TD  1D  Succ%  Lng  Y/Tgt  R/G   Y/G  Fmb  Player-additional  \n",
      "0      11.6   8  72   62.1   39    8.2  6.8  78.4  0.0           RiceJe00  \n",
      "1      12.2   9  70   52.2   50    7.3  6.6  81.0  0.0           MoorHe00  \n",
      "2      11.8  12  63   51.7   61    6.8  6.3  73.8  0.0           PickCa00  \n",
      "3       7.7   7  46   51.5   39    5.9  6.2  47.9  1.0           CentLa00  \n",
      "4      12.1  10  57   51.5   43    7.0  6.0  72.7  1.0           CartCr00  \n",
      "...     ...  ..  ..    ...  ...    ...  ...   ...  ...                ...  \n",
      "12678   NaN   0   0    0.0    0    0.0  0.0   0.0  0.0           TogiNo00  \n",
      "12679   NaN   0   0    0.0    0    0.0  0.0   0.0  0.0           TongJa00  \n",
      "12680   NaN   0   0    0.0    0    0.0  0.0   0.0  1.0           TurnDJ00  \n",
      "12681   NaN   0   0    0.0    0    0.0  0.0   0.0  0.0           WashJa00  \n",
      "12682   NaN   0   0    0.0    0    0.0  0.0   0.0  0.0           WoerCh00  \n",
      "\n",
      "[12683 rows x 22 columns]\n"
     ]
    }
   ],
   "source": [
    "moreStatsDF = pd.concat(\n",
    "    map(pd.read_csv, [\"nflWRStats96.csv\",\"nflWRStats97.csv\",\"nflWRStats98.csv\",\"nflWRStats99.csv\",\"nflWRStats00.csv\",\"nflWRStats01.csv\",\"nflWRStats02.csv\",\"nflWRStats03.csv\",\n",
    "                      \"nflWRStats04.csv\",\"nflWRStats05.csv\",\"nflWRStats06.csv\",\"nflWRStats07.csv\",\"nflWRStats08.csv\",\"nflWRStats09.csv\",\"nflWRStats10.csv\",\"nflWRStats11.csv\",\n",
    "                      \"nflWRStats12.csv\",\"nflWRStats13.csv\",\"nflWRStats14.csv\",\"nflWRStats15.csv\",\"nflWRStats16.csv\",\"nflWRStats17.csv\",\"nflWRStats18.csv\",\"nflWRStats19.csv\",\n",
    "                      \"nflWRStats20.csv\",\"nflWRStats21.csv\",\"nflWRStats22.csv\"]), ignore_index=True)\n",
    "print(moreStatsDF)"
   ]
  },
  {
   "cell_type": "code",
   "execution_count": 63,
   "metadata": {},
   "outputs": [
    {
     "name": "stdout",
     "output_type": "stream",
     "text": [
      "        Rk            Player   Tm  Age Pos  Year   G  GS    Tgt  Rec  ...  \\\n",
      "0        1        Jerry Rice  SFO   34  WR  1996  16  16  153.0  108  ...   \n",
      "1        2      Herman Moore  DET   27  WR  1996  16  16  178.0  106  ...   \n",
      "2        3      Carl Pickens  CIN   26  WR  1996  16  16  174.0  100  ...   \n",
      "3        4     Larry Centers  ARI   28  FB  1996  16  14  130.0   99  ...   \n",
      "4        5       Cris Carter  MIN   31  WR  1996  16  16  167.0   96  ...   \n",
      "...    ...               ...  ...  ...  ..   ...  ..  ..    ...  ...  ...   \n",
      "12678  504       Noah Togiai  PHI   25  TE  2022   2   0    1.0    0  ...   \n",
      "12679  505       Jake Tonges  CHI   23  TE  2022   4   0    1.0    0  ...   \n",
      "12680  506         DJ Turner  LVR   25  WR  2022   9   0    1.0    0  ...   \n",
      "12681  507  James Washington  DAL   26  WR  2022   2   0    1.0    0  ...   \n",
      "12682  508   Charlie Woerner  SFO   25  TE  2022  17   2    2.0    0  ...   \n",
      "\n",
      "        Y/R  TD  1D  Succ%  Lng  Y/Tgt  R/G   Y/G  Fmb  Player-additional  \n",
      "0      11.6   8  72   62.1   39    8.2  6.8  78.4  0.0           RiceJe00  \n",
      "1      12.2   9  70   52.2   50    7.3  6.6  81.0  0.0           MoorHe00  \n",
      "2      11.8  12  63   51.7   61    6.8  6.3  73.8  0.0           PickCa00  \n",
      "3       7.7   7  46   51.5   39    5.9  6.2  47.9  1.0           CentLa00  \n",
      "4      12.1  10  57   51.5   43    7.0  6.0  72.7  1.0           CartCr00  \n",
      "...     ...  ..  ..    ...  ...    ...  ...   ...  ...                ...  \n",
      "12678   NaN   0   0    0.0    0    0.0  0.0   0.0  0.0           TogiNo00  \n",
      "12679   NaN   0   0    0.0    0    0.0  0.0   0.0  0.0           TongJa00  \n",
      "12680   NaN   0   0    0.0    0    0.0  0.0   0.0  1.0           TurnDJ00  \n",
      "12681   NaN   0   0    0.0    0    0.0  0.0   0.0  0.0           WashJa00  \n",
      "12682   NaN   0   0    0.0    0    0.0  0.0   0.0  0.0           WoerCh00  \n",
      "\n",
      "[12683 rows x 22 columns]\n"
     ]
    }
   ],
   "source": [
    "moreStatsDF['Player'] = moreStatsDF['Player'].str.replace('*','')\n",
    "moreStatsDF['Player'] = moreStatsDF['Player'].str.replace('+','')\n",
    "\n",
    "print(moreStatsDF)"
   ]
  },
  {
   "cell_type": "code",
   "execution_count": 64,
   "metadata": {},
   "outputs": [],
   "source": [
    "moreStatsDF.to_csv(\"fullNFLStats.csv\")"
   ]
  }
 ],
 "metadata": {
  "kernelspec": {
   "display_name": "Python 3",
   "language": "python",
   "name": "python3"
  },
  "language_info": {
   "codemirror_mode": {
    "name": "ipython",
    "version": 3
   },
   "file_extension": ".py",
   "mimetype": "text/x-python",
   "name": "python",
   "nbconvert_exporter": "python",
   "pygments_lexer": "ipython3",
   "version": "3.11.4"
  },
  "orig_nbformat": 4
 },
 "nbformat": 4,
 "nbformat_minor": 2
}
